{
 "cells": [
  {
   "cell_type": "markdown",
   "id": "c9db8178",
   "metadata": {},
   "source": [
    "# methods in lists []"
   ]
  },
  {
   "cell_type": "code",
   "execution_count": 2,
   "id": "893f2f12",
   "metadata": {},
   "outputs": [
    {
     "name": "stdout",
     "output_type": "stream",
     "text": [
      "['Kenya', 'Uganda', 'Rwanda', 'Burundi', 'Somalia', 'Tanzania']\n"
     ]
    }
   ],
   "source": [
    "# 1.append()\n",
    "# elements to the end of the list\n",
    "\n",
    "list = [\"Kenya\",\"Uganda\",\"Rwanda\",\"Burundi\",\"Somalia\"]\n",
    "list.append(\"Tanzania\")\n",
    "print(list)"
   ]
  },
  {
   "cell_type": "code",
   "execution_count": 3,
   "id": "963864f3",
   "metadata": {},
   "outputs": [
    {
     "name": "stdout",
     "output_type": "stream",
     "text": [
      "['Kenya', 'Uganda', 'Rwanda', 'Tanzania', 2000, 1987]\n"
     ]
    }
   ],
   "source": [
    "# 2.Insert()\n",
    "#insert element at the specificed location.\n",
    "#it should be within a range of list.\n",
    "\n",
    "list = [\"Kenya\",\"Uganda\",\"Rwanda\",2000, 1987]\n",
    "list.insert(3,\"Tanzania\")\n",
    "print(list)\n"
   ]
  },
  {
   "cell_type": "code",
   "execution_count": 6,
   "id": "1119596c",
   "metadata": {},
   "outputs": [
    {
     "name": "stdout",
     "output_type": "stream",
     "text": [
      "[1, 2, 3, 4, 5, 4, 5, 6, 7, 8]\n",
      "[4, 5, 6, 7, 8, 1, 2, 3, 4, 5, 4, 5, 6, 7, 8]\n"
     ]
    }
   ],
   "source": [
    "# 3.extend()\n",
    "#adds items of an iterable(list,array,string etc) to the end of the list.\n",
    "list1 = [1,2,3,4,5]\n",
    "list2 = [4,5,6,7,8]\n",
    "#add list2 to list1\n",
    "list1.extend(list2)\n",
    "print(list1)\n",
    "\n",
    "#add list1 to list2\n",
    "list2.extend(list1)\n",
    "print(list2)"
   ]
  },
  {
   "cell_type": "code",
   "execution_count": 7,
   "id": "b9e918c8",
   "metadata": {},
   "outputs": [
    {
     "name": "stdout",
     "output_type": "stream",
     "text": [
      "44\n"
     ]
    }
   ],
   "source": [
    "# 4.sum()\n",
    "#calculates the sum of all elements in a list.\n",
    "#it only calculates numeric values.\n",
    "list = [2,3,4,5,6,7,8,9]\n",
    "print(sum(list))"
   ]
  },
  {
   "cell_type": "code",
   "execution_count": 8,
   "id": "d6447f14",
   "metadata": {},
   "outputs": [
    {
     "name": "stdout",
     "output_type": "stream",
     "text": [
      "3\n"
     ]
    }
   ],
   "source": [
    "# 5.count()\n",
    "#calculates the total occurrence of a given elements of the list\n",
    "list = [1,2,1,2,3,3,1,3,2,4]\n",
    "print(list.count(1))"
   ]
  },
  {
   "cell_type": "code",
   "execution_count": 9,
   "id": "11c087d3",
   "metadata": {},
   "outputs": [
    {
     "name": "stdout",
     "output_type": "stream",
     "text": [
      "10\n"
     ]
    }
   ],
   "source": [
    "# 6.len()\n",
    "#calculates the total length of the list.\n",
    "list = [1,2,1,2,3,3,1,3,2,4]\n",
    "print(len(list))"
   ]
  },
  {
   "cell_type": "code",
   "execution_count": 36,
   "id": "238664e5",
   "metadata": {},
   "outputs": [
    {
     "name": "stdout",
     "output_type": "stream",
     "text": [
      "6\n"
     ]
    }
   ],
   "source": [
    "# 7.index()\n",
    "#returns the index of the first occurrence.\n",
    "#The start and end indexes are not necessary parameters. \n",
    "\n",
    "list = [1,2,1,2,3,3,1,3,2,4]\n",
    "print(list.index(1,4))"
   ]
  },
  {
   "cell_type": "code",
   "execution_count": 37,
   "id": "81257f2f",
   "metadata": {},
   "outputs": [
    {
     "name": "stdout",
     "output_type": "stream",
     "text": [
      "1\n"
     ]
    }
   ],
   "source": [
    "# 8.min()\n",
    "#Calculates minimum of all the elements of List.\n",
    "list = [1,2,1,2,3,3,1,3,2,4]\n",
    "print(min(list))"
   ]
  },
  {
   "cell_type": "code",
   "execution_count": 38,
   "id": "561a37c7",
   "metadata": {},
   "outputs": [
    {
     "name": "stdout",
     "output_type": "stream",
     "text": [
      "4\n"
     ]
    }
   ],
   "source": [
    "# 9. max()\n",
    "#Calculates the maximum of all the elements of the List.\n",
    "list = [1,2,1,2,3,3,1,3,2,4]\n",
    "print(max(list))"
   ]
  },
  {
   "cell_type": "code",
   "execution_count": 45,
   "id": "de2bc06c",
   "metadata": {},
   "outputs": [
    {
     "name": "stdout",
     "output_type": "stream",
     "text": [
      "[10, 8, 7, 6, 4, 3, 2, 1]\n"
     ]
    }
   ],
   "source": [
    "# 10.sort()\n",
    "#Sort the given data structure (both tuple and list) in ascending order.\n",
    "#Key and reverse_flag are not necessary parameter and reverse_flag is set to False if nothing is passed through sorted(). \n",
    "#Syntax: list.sort([key,[Reverse_flag]])\n",
    "\n",
    "#Reverse flag is set True\n",
    "list = [1,8,10,2,7,3,6,4]\n",
    "list.sort(reverse = True)\n",
    "print(list)\n",
    "#List.sort().reverse(), reverses the sorted list   \n",
    "\n"
   ]
  },
  {
   "cell_type": "code",
   "execution_count": 46,
   "id": "b175433c",
   "metadata": {},
   "outputs": [
    {
     "name": "stdout",
     "output_type": "stream",
     "text": [
      "[4, 6, 3, 7, 2, 10, 8, 1]\n"
     ]
    }
   ],
   "source": [
    "# 11.reverse() \n",
    "#reverses the order of list.\n",
    "list = [1,8,10,2,7,3,6,4]\n",
    "list.reverse()\n",
    "print(list)"
   ]
  },
  {
   "cell_type": "code",
   "execution_count": 49,
   "id": "5ce63dfb",
   "metadata": {},
   "outputs": [
    {
     "name": "stdout",
     "output_type": "stream",
     "text": [
      "4\n",
      "10\n",
      "[1, 8, 2, 7, 3, 6, 4]\n"
     ]
    }
   ],
   "source": [
    "# 12.pop() \n",
    "#Removes an item from a specific index in a list.\n",
    "#The index is not a necessary parameter, if not mentioned takes the last index. \n",
    "\n",
    "#when the index is not specified.\n",
    "list = [1,8,10,2,7,3,6,4]\n",
    "print(list.pop())\n",
    "\n",
    "#when the index is specified\n",
    "list = [1,8,10,2,7,3,6,4]\n",
    "print(list.pop(2))\n",
    "print(list)\n"
   ]
  },
  {
   "cell_type": "code",
   "execution_count": 51,
   "id": "463f209e",
   "metadata": {},
   "outputs": [
    {
     "name": "stdout",
     "output_type": "stream",
     "text": [
      "[1, 8, 2, 7, 3, 6, 4]\n"
     ]
    }
   ],
   "source": [
    "# 13.del()\n",
    "#Deletes an element from the list using it’s index\n",
    "list = [1,8,10,2,7,3,6,4]\n",
    "del list[2]\n",
    "print(list)"
   ]
  },
  {
   "cell_type": "code",
   "execution_count": 52,
   "id": "dc026eaf",
   "metadata": {},
   "outputs": [
    {
     "name": "stdout",
     "output_type": "stream",
     "text": [
      "[1, 8, 2, 7, 3, 6, 4]\n"
     ]
    }
   ],
   "source": [
    "# 14.remove()\n",
    "#Removes a specific element using it’s value/name.\n",
    "list = [1,8,10,2,7,3,6,4]\n",
    "list.remove(10)\n",
    "print(list)"
   ]
  },
  {
   "cell_type": "code",
   "execution_count": null,
   "id": "91d26d08",
   "metadata": {},
   "outputs": [],
   "source": []
  },
  {
   "cell_type": "markdown",
   "id": "cb4baf4d",
   "metadata": {},
   "source": [
    "# Methods in Dictionaries {}\n"
   ]
  },
  {
   "cell_type": "code",
   "execution_count": 54,
   "id": "7650e930",
   "metadata": {},
   "outputs": [
    {
     "name": "stdout",
     "output_type": "stream",
     "text": [
      "{}\n"
     ]
    }
   ],
   "source": [
    "# 1.clear()\n",
    "#used to remove all the elements (key-value pairs) from a dictionary. \n",
    "# It essentially empties the dictionary, leaving it with no key-value pairs.\n",
    "my_dict = {\"Name\":\"Faith\",\"Age\":17,\"Country\":\"Nigeria\"}\n",
    "my_dict.clear()\n",
    "print(my_dict)"
   ]
  },
  {
   "cell_type": "code",
   "execution_count": 55,
   "id": "0c8fc0a8",
   "metadata": {},
   "outputs": [
    {
     "name": "stdout",
     "output_type": "stream",
     "text": [
      "Faith\n",
      "17\n",
      "Nigeria\n"
     ]
    }
   ],
   "source": [
    "# 2.get() \n",
    "#used to obtain the value linked to a particular key in a dictionary\n",
    "my_dict = {\"Name\":\"Faith\",\"Age\":17,\"Country\":\"Nigeria\"}\n",
    "print(my_dict.get(\"Name\"))\n",
    "print(my_dict.get(\"Age\"))\n",
    "print(my_dict.get(\"Country\"))"
   ]
  },
  {
   "cell_type": "code",
   "execution_count": 1,
   "id": "beb38336",
   "metadata": {},
   "outputs": [
    {
     "name": "stdout",
     "output_type": "stream",
     "text": [
      "dict_items([('Name', 'Faith'), ('Age', 17), ('Country', 'Nigeria')])\n"
     ]
    }
   ],
   "source": [
    "# 3.items()\n",
    "#retrieves a view object containing a list of tuples.\n",
    "mydict = {\"Name\":\"Faith\",\"Age\":17,\"Country\":\"Nigeria\"}\n",
    "print(mydict.items())"
   ]
  },
  {
   "cell_type": "code",
   "execution_count": 2,
   "id": "50c39453",
   "metadata": {},
   "outputs": [
    {
     "name": "stdout",
     "output_type": "stream",
     "text": [
      "dict_keys(['Name', 'Age', 'Country'])\n"
     ]
    }
   ],
   "source": [
    "# 4.keys() \n",
    "#returns a view object with dictionary keys, allowing efficient access and iteration.\n",
    "mydict = {\"Name\":\"Faith\",\"Age\":17,\"Country\":\"Nigeria\"}\n",
    "print(mydict.keys())"
   ]
  },
  {
   "cell_type": "code",
   "execution_count": 3,
   "id": "11dfb4c0",
   "metadata": {},
   "outputs": [
    {
     "name": "stdout",
     "output_type": "stream",
     "text": [
      "dict_values(['Faith', 17, 'Nigeria'])\n"
     ]
    }
   ],
   "source": [
    "# 5. values() \n",
    "# returns a view object containing all dictionary values, which can be accessed and iterated through efficiently.\n",
    "mydict = {\"Name\":\"Faith\",\"Age\":17,\"Country\":\"Nigeria\"}\n",
    "print(mydict.values())"
   ]
  },
  {
   "cell_type": "code",
   "execution_count": 4,
   "id": "f0e68aec",
   "metadata": {},
   "outputs": [
    {
     "name": "stdout",
     "output_type": "stream",
     "text": [
      "{'Name': 'Quincy', 'Age': 2, 'Country': 'Nigeria'}\n"
     ]
    }
   ],
   "source": [
    "# 6.update()\n",
    "#updates the key-value pairs of a dictionary using elements from another dictionary or an iterable of key-value pairs. \n",
    "mydict = {\"Name\":\"Faith\",\"Age\":17,\"Country\":\"Nigeria\"}\n",
    "mydict1 = {\"Name\":\"Quincy\",\"Age\":2}\n",
    "mydict.update(mydict1)\n",
    "print(mydict)"
   ]
  },
  {
   "cell_type": "code",
   "execution_count": 5,
   "id": "e024d05e",
   "metadata": {},
   "outputs": [
    {
     "name": "stdout",
     "output_type": "stream",
     "text": [
      "{'Name': 'Faith', 'Country': 'Nigeria'}\n"
     ]
    }
   ],
   "source": [
    "# 7.pop() \n",
    "#removes and retrieves the value linked with a given key from a dictionary. \n",
    "mydict = {\"Name\":\"Faith\",\"Age\":17,\"Country\":\"Nigeria\"}\n",
    "mydict.pop(\"Age\")\n",
    "print(mydict)"
   ]
  },
  {
   "cell_type": "code",
   "execution_count": 7,
   "id": "1a04e415",
   "metadata": {},
   "outputs": [
    {
     "name": "stdout",
     "output_type": "stream",
     "text": [
      "{'Name': 'Faith', 'Age': 17}\n",
      "{'Name': 'Faith'}\n"
     ]
    }
   ],
   "source": [
    "# 8.popitem() \n",
    "#eliminates and returns a random (key, value) pair from the dictionary.\n",
    "#popitem() takes out and gives back a pair without requiring a key to be specified.\n",
    "mydict = {\"Name\":\"Faith\",\"Age\":17,\"Country\":\"Nigeria\"}\n",
    "mydict.popitem()\n",
    "print(mydict)\n",
    "\n",
    "mydict.popitem()\n",
    "print(mydict)"
   ]
  },
  {
   "cell_type": "code",
   "execution_count": null,
   "id": "3b76dd7b",
   "metadata": {},
   "outputs": [],
   "source": []
  },
  {
   "cell_type": "markdown",
   "id": "79583389",
   "metadata": {},
   "source": [
    "# methods in Tuples ()"
   ]
  },
  {
   "cell_type": "code",
   "execution_count": 6,
   "id": "56a031c1",
   "metadata": {},
   "outputs": [
    {
     "name": "stdout",
     "output_type": "stream",
     "text": [
      "count of 3 in tuple1: 3\n",
      "count of 9 in tuple1: 2\n"
     ]
    }
   ],
   "source": [
    "# 1.Count()\n",
    "#returns the number of times the given element appears in the tuple.\n",
    "tuple1 = (1,3,9,3,1,3,9,6)\n",
    "res = tuple1.count(3)\n",
    "print(\"count of 3 in tuple1:\",res)\n",
    "\n",
    "res = tuple1.count(9)\n",
    "print(\"count of 9 in tuple1:\",res)"
   ]
  },
  {
   "cell_type": "code",
   "execution_count": 10,
   "id": "2fd28c68",
   "metadata": {},
   "outputs": [
    {
     "name": "stdout",
     "output_type": "stream",
     "text": [
      "9\n"
     ]
    }
   ],
   "source": [
    "# 2.Index()\n",
    "#returns the first occurrence of the given element from the tuple.\n",
    "tuple1 = (1,8,9,3,9,3,1,3,9,6)\n",
    "print(tuple1.index(6,1))"
   ]
  },
  {
   "cell_type": "code",
   "execution_count": null,
   "id": "25ca6594",
   "metadata": {},
   "outputs": [],
   "source": []
  },
  {
   "cell_type": "code",
   "execution_count": null,
   "id": "f57f51b4",
   "metadata": {},
   "outputs": [],
   "source": []
  }
 ],
 "metadata": {
  "kernelspec": {
   "display_name": "Python 3 (ipykernel)",
   "language": "python",
   "name": "python3"
  },
  "language_info": {
   "codemirror_mode": {
    "name": "ipython",
    "version": 3
   },
   "file_extension": ".py",
   "mimetype": "text/x-python",
   "name": "python",
   "nbconvert_exporter": "python",
   "pygments_lexer": "ipython3",
   "version": "3.9.13"
  }
 },
 "nbformat": 4,
 "nbformat_minor": 5
}
