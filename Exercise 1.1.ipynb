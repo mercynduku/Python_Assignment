{
 "cells": [
  {
   "cell_type": "markdown",
   "id": "ff580b5c",
   "metadata": {},
   "source": [
    "Qn.1 \n",
    "What is the output of the following print statements?\n",
    "\n",
    "print(\"\\ta\\tb\\tc\") \n",
    "\n",
    "print(\"\\\\\\\\\")\n",
    "\n",
    "print(\"'\")\n",
    "\n",
    "print(\"\\\"\\\"\\\"\")\n",
    "\n",
    "print(\"C:\\nin\\the downward spiral"
   ]
  },
  {
   "cell_type": "code",
   "execution_count": 6,
   "id": "ab024661",
   "metadata": {},
   "outputs": [
    {
     "name": "stdout",
     "output_type": "stream",
     "text": [
      "\ta\tb\tc\n",
      "\\\\\n",
      "'\n",
      "\"\"\"\n",
      "C:\n",
      "in\the downward spiral\n"
     ]
    }
   ],
   "source": [
    "#Ans\n",
    "print(\"\\ta\\tb\\tc\")\n",
    "print(\"\\\\\\\\\")\n",
    "print(\"'\")\n",
    "print(\"\\\"\\\"\\\"\")\n",
    "print(\"C:\\nin\\the downward spiral\")"
   ]
  },
  {
   "cell_type": "markdown",
   "id": "dca401b0",
   "metadata": {},
   "source": [
    "Qn.2\n",
    "Write a print statement to produce this output:\n",
    "/ \\ // \\\\ /// \\\\\\"
   ]
  },
  {
   "cell_type": "code",
   "execution_count": 1,
   "id": "365032bd",
   "metadata": {},
   "outputs": [
    {
     "name": "stdout",
     "output_type": "stream",
     "text": [
      "/ \\ // \\\\ /// \\\\\\\n"
     ]
    }
   ],
   "source": [
    "print(\"/ \\\\ // \\\\\\\\ /// \\\\\\\\\\\\\")\n"
   ]
  },
  {
   "cell_type": "markdown",
   "id": "549d4541",
   "metadata": {},
   "source": [
    "Qn.3\n",
    "What print statements will generate this output?\n",
    "\n",
    "This quote is from Irish poet Oscar Wilde:\n",
    "\n",
    "\"Music makes one feel so romantic\n",
    "\n",
    "- at least it always gets on one's nerves – which is the same thing nowadays.\""
   ]
  },
  {
   "cell_type": "code",
   "execution_count": 7,
   "id": "019691d9",
   "metadata": {},
   "outputs": [
    {
     "name": "stdout",
     "output_type": "stream",
     "text": [
      "\n",
      "This quote is from Irish poet Oscar Wilde:\n",
      "\n",
      "\"Music makes one feel so romantic\n",
      "\n",
      "- at least it always gets on one's nerves – which is the same thing nowadays.\"\n",
      "\n"
     ]
    }
   ],
   "source": [
    "#Ans\n",
    "print(\"\"\"\n",
    "This quote is from Irish poet Oscar Wilde:\n",
    "\n",
    "\"Music makes one feel so romantic\n",
    "\n",
    "- at least it always gets on one's nerves – which is the same thing nowadays.\"\n",
    "\"\"\")\n"
   ]
  },
  {
   "cell_type": "markdown",
   "id": "993275bd",
   "metadata": {},
   "source": [
    "Qn.4\n",
    "What print statements will generate this output?\n",
    "\n",
    "A \"quoted\" String is 'much' better if you learn\n",
    "\n",
    "the rules of \"escape sequences.\" Also, \"\" represents an empty String. Don't forget: use \\\" instead of \" ! '' is not the same as \"\n",
    "\n"
   ]
  },
  {
   "cell_type": "code",
   "execution_count": 9,
   "id": "d55e55b9",
   "metadata": {},
   "outputs": [
    {
     "name": "stdout",
     "output_type": "stream",
     "text": [
      "A \"quoted\" String is 'much' better if you learn\n",
      "\n",
      "the rules of \"escape sequences.\" Also, \"\" represents an empty String.\n",
      "\n",
      "Don't forget: use \\\" instead of \" ! '' is not the same as \"\n"
     ]
    }
   ],
   "source": [
    "#ans\n",
    "print('A \"quoted\" String is \\'much\\' better if you learn\\n')\n",
    "print('the rules of \"escape sequences.\" Also, \"\" represents an empty String.\\n')\n",
    "print(\"Don't forget: use \\\\\\\" instead of \\\" ! '' is not the same as \\\"\")\n"
   ]
  },
  {
   "cell_type": "markdown",
   "id": "e5806359",
   "metadata": {},
   "source": [
    "Qn.5\n",
    "What values result from the following expressions?\n",
    "\n",
    "– 9 / 5\n",
    "\n",
    "– 695 % 20\n",
    "\n",
    "– 7 + 6 * 5\n",
    "\n",
    "– 7 * 6 + 5\n",
    "\n",
    "– 248 % 100 / 5\n",
    "\n",
    "– 6 * 3 - 9 / 4\n",
    "\n",
    "– (5 - 7) * 4\n",
    "\n",
    "– 6 + (18 % (17 - 12))"
   ]
  },
  {
   "cell_type": "code",
   "execution_count": 10,
   "id": "bc6c0f64",
   "metadata": {},
   "outputs": [
    {
     "data": {
      "text/plain": [
       "1.8"
      ]
     },
     "execution_count": 10,
     "metadata": {},
     "output_type": "execute_result"
    }
   ],
   "source": [
    "#Ans\n",
    "9 / 5"
   ]
  },
  {
   "cell_type": "code",
   "execution_count": 11,
   "id": "0c9a82c3",
   "metadata": {},
   "outputs": [
    {
     "data": {
      "text/plain": [
       "15"
      ]
     },
     "execution_count": 11,
     "metadata": {},
     "output_type": "execute_result"
    }
   ],
   "source": [
    "695 % 20"
   ]
  },
  {
   "cell_type": "code",
   "execution_count": 12,
   "id": "d7547259",
   "metadata": {},
   "outputs": [
    {
     "data": {
      "text/plain": [
       "37"
      ]
     },
     "execution_count": 12,
     "metadata": {},
     "output_type": "execute_result"
    }
   ],
   "source": [
    "7 + 6 * 5"
   ]
  },
  {
   "cell_type": "code",
   "execution_count": 13,
   "id": "1f1899cd",
   "metadata": {},
   "outputs": [
    {
     "data": {
      "text/plain": [
       "47"
      ]
     },
     "execution_count": 13,
     "metadata": {},
     "output_type": "execute_result"
    }
   ],
   "source": [
    "7 * 6 + 5"
   ]
  },
  {
   "cell_type": "code",
   "execution_count": 14,
   "id": "b5499c93",
   "metadata": {},
   "outputs": [
    {
     "data": {
      "text/plain": [
       "9.6"
      ]
     },
     "execution_count": 14,
     "metadata": {},
     "output_type": "execute_result"
    }
   ],
   "source": [
    "248 % 100 / 5"
   ]
  },
  {
   "cell_type": "code",
   "execution_count": 15,
   "id": "b4e8a6ed",
   "metadata": {},
   "outputs": [
    {
     "data": {
      "text/plain": [
       "15.75"
      ]
     },
     "execution_count": 15,
     "metadata": {},
     "output_type": "execute_result"
    }
   ],
   "source": [
    "6 * 3 - 9 / 4"
   ]
  },
  {
   "cell_type": "code",
   "execution_count": 16,
   "id": "2861bc90",
   "metadata": {},
   "outputs": [
    {
     "data": {
      "text/plain": [
       "-8"
      ]
     },
     "execution_count": 16,
     "metadata": {},
     "output_type": "execute_result"
    }
   ],
   "source": [
    "(5 - 7) * 4\n"
   ]
  },
  {
   "cell_type": "code",
   "execution_count": 17,
   "id": "4bf33feb",
   "metadata": {},
   "outputs": [
    {
     "data": {
      "text/plain": [
       "9"
      ]
     },
     "execution_count": 17,
     "metadata": {},
     "output_type": "execute_result"
    }
   ],
   "source": [
    "6 + (18 % (17 - 12))"
   ]
  },
  {
   "cell_type": "code",
   "execution_count": null,
   "id": "48f436c8",
   "metadata": {},
   "outputs": [],
   "source": []
  },
  {
   "cell_type": "code",
   "execution_count": null,
   "id": "f970a171",
   "metadata": {},
   "outputs": [],
   "source": []
  },
  {
   "cell_type": "code",
   "execution_count": null,
   "id": "b31ac736",
   "metadata": {},
   "outputs": [],
   "source": []
  },
  {
   "cell_type": "code",
   "execution_count": null,
   "id": "44ac8967",
   "metadata": {},
   "outputs": [],
   "source": []
  }
 ],
 "metadata": {
  "kernelspec": {
   "display_name": "Python 3 (ipykernel)",
   "language": "python",
   "name": "python3"
  },
  "language_info": {
   "codemirror_mode": {
    "name": "ipython",
    "version": 3
   },
   "file_extension": ".py",
   "mimetype": "text/x-python",
   "name": "python",
   "nbconvert_exporter": "python",
   "pygments_lexer": "ipython3",
   "version": "3.9.13"
  }
 },
 "nbformat": 4,
 "nbformat_minor": 5
}
