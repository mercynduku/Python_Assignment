{
 "cells": [
  {
   "cell_type": "markdown",
   "id": "8e000a05",
   "metadata": {},
   "source": [
    "Qn.1 Write a program to produce the following output using for loop\n",
    "+----+\n",
    "\\ /\n",
    "/ \\\n",
    "\\ /\n",
    "/ \\\n",
    "\\ /\n",
    "/ \\\n",
    "+----+"
   ]
  },
  {
   "cell_type": "code",
   "execution_count": 14,
   "id": "fef3ac13",
   "metadata": {},
   "outputs": [
    {
     "name": "stdout",
     "output_type": "stream",
     "text": [
      "+----+\n",
      "\\    /\n",
      "/    \\\n",
      "\\    /\n",
      "/    \\\n",
      "\\    /\n",
      "/    \\\n",
      "+----+\n",
      "\\    /\n",
      "/    \\\n"
     ]
    }
   ],
   "source": [
    "#Ans\n",
    "for i in range(6):\n",
    "    if i % 4 == 0:\n",
    "        print(\"+----+\")\n",
    "    else:\n",
    "        print(\"\\\\    /\")\n",
    "        print(\"/    \\\\\")\n",
    "\n"
   ]
  },
  {
   "cell_type": "markdown",
   "id": "bfac5cf0",
   "metadata": {},
   "source": [
    "Qn.2\n",
    "Write a program to produce the following output using for loop\n",
    "**********\n",
    "**********\n",
    "**********\n",
    "**********\n",
    "**********"
   ]
  },
  {
   "cell_type": "code",
   "execution_count": 3,
   "id": "2ab271d7",
   "metadata": {},
   "outputs": [
    {
     "name": "stdout",
     "output_type": "stream",
     "text": [
      "**********\n",
      "**********\n",
      "**********\n",
      "**********\n",
      "**********\n"
     ]
    }
   ],
   "source": [
    "#ans\n",
    "for i in range(5):\n",
    "    for j in range(10):\n",
    "        print(\"*\",end=\"\")\n",
    "    print()"
   ]
  },
  {
   "cell_type": "markdown",
   "id": "d75a1a6d",
   "metadata": {},
   "source": [
    "Qn.3 Complete the code for the following for loop:\n",
    "for in range(1,7):\n",
    " //your code here\n",
    "so that it prints the following numbers, one per line:\n",
    ") 1 b) 2 c) 4 d) 30 e) -7 f) 97 g) -4\n",
    "2 4 19 20 -3 94 14\n",
    "3 6 34 10 1 91 32\n",
    "4 8 49 0 5 88 50\n",
    "5 10 64 -10 9 85 68\n",
    "6 12 79 -20 13 82 86"
   ]
  },
  {
   "cell_type": "code",
   "execution_count": 10,
   "id": "8502e26e",
   "metadata": {},
   "outputs": [
    {
     "name": "stdout",
     "output_type": "stream",
     "text": [
      "1\n",
      "2\n",
      "3\n",
      "4\n",
      "5\n",
      "6\n"
     ]
    }
   ],
   "source": [
    "#Ans,(a)\n",
    "for i in range(1,7):\n",
    "    print(i)\n",
    "    i= i+2\n",
    "    "
   ]
  },
  {
   "cell_type": "code",
   "execution_count": 46,
   "id": "978b32e4",
   "metadata": {},
   "outputs": [
    {
     "name": "stdout",
     "output_type": "stream",
     "text": [
      "2\n",
      "4\n",
      "6\n",
      "8\n",
      "10\n",
      "12\n"
     ]
    }
   ],
   "source": [
    "#(b)\n",
    "\n",
    "for i in range(2,14,2):\n",
    "    print(i)\n",
    "\n",
    "    \n"
   ]
  },
  {
   "cell_type": "code",
   "execution_count": 45,
   "id": "c9bb2b5f",
   "metadata": {},
   "outputs": [
    {
     "name": "stdout",
     "output_type": "stream",
     "text": [
      "4\n",
      "19\n",
      "34\n",
      "49\n",
      "64\n",
      "79\n"
     ]
    }
   ],
   "source": [
    "#(c)\n",
    "for i in range(4,94,15):\n",
    "    print(i)"
   ]
  },
  {
   "cell_type": "code",
   "execution_count": 44,
   "id": "d36de900",
   "metadata": {},
   "outputs": [
    {
     "name": "stdout",
     "output_type": "stream",
     "text": [
      "30\n",
      "20\n",
      "10\n",
      "0\n",
      "-10\n",
      "-20\n"
     ]
    }
   ],
   "source": [
    "#(d)\n",
    "for i in range(30,-30,-10):\n",
    "    print(i)"
   ]
  },
  {
   "cell_type": "code",
   "execution_count": 43,
   "id": "79d445ca",
   "metadata": {},
   "outputs": [
    {
     "name": "stdout",
     "output_type": "stream",
     "text": [
      "-7\n",
      "-3\n",
      "1\n",
      "5\n",
      "9\n",
      "13\n"
     ]
    }
   ],
   "source": [
    "#(e)\n",
    "for i in range(-7,17,4):\n",
    "    print(i)"
   ]
  },
  {
   "cell_type": "code",
   "execution_count": 48,
   "id": "e6f3a008",
   "metadata": {},
   "outputs": [
    {
     "name": "stdout",
     "output_type": "stream",
     "text": [
      "97\n",
      "94\n",
      "91\n",
      "88\n",
      "85\n",
      "82\n"
     ]
    }
   ],
   "source": [
    "#(f)\n",
    "for i in range(97,79,-3):\n",
    "    print(i)"
   ]
  },
  {
   "cell_type": "code",
   "execution_count": 50,
   "id": "19e90951",
   "metadata": {},
   "outputs": [
    {
     "name": "stdout",
     "output_type": "stream",
     "text": [
      "-4\n",
      "14\n",
      "32\n",
      "50\n",
      "68\n",
      "86\n"
     ]
    }
   ],
   "source": [
    "#(g)\n",
    "for i in range(-4,104,18):\n",
    "    print(i)"
   ]
  },
  {
   "cell_type": "markdown",
   "id": "084be0ff",
   "metadata": {},
   "source": [
    "Qn.4 Write a program to produce the following output using for loops. Then \n",
    "use a class constant to make it possible to change the number of lines in \n",
    "the figure.\n",
    "1\n",
    "22\n",
    "333\n",
    "4444\n",
    "55555\n",
    "666666\n",
    "7777777"
   ]
  },
  {
   "cell_type": "code",
   "execution_count": 53,
   "id": "0e6e6082",
   "metadata": {},
   "outputs": [
    {
     "name": "stdout",
     "output_type": "stream",
     "text": [
      "1\n",
      "22\n",
      "333\n",
      "4444\n",
      "55555\n",
      "666666\n",
      "7777777\n"
     ]
    }
   ],
   "source": [
    "#Ans\n",
    "n = 7\n",
    "for i in range(n):\n",
    "    for j in range(i+1):\n",
    "        print(i+1,end=\"\")\n",
    "    print()"
   ]
  },
  {
   "cell_type": "markdown",
   "id": "b4a1aa30",
   "metadata": {},
   "source": [
    "Qn.5  \n",
    "Write a method named pay that accepts two parameters: a real number \n",
    "for a TA's salary, and an integer for the number of hours the TA worked \n",
    "this week. The method should return how much money to pay the TA. \n",
    "For example, the call \n",
    "pay(5.50, 6)\n",
    "should return \n",
    "33.0. \n",
    "The TA should receive \"overtime\" pay of 1 ½ normal salary for any hours \n",
    "above 8. For example, the call pay(4.00, 11) should return (4.00 * \n",
    "8) + (6.00 * 3) or 50.0."
   ]
  },
  {
   "cell_type": "code",
   "execution_count": 68,
   "id": "f3d50228",
   "metadata": {},
   "outputs": [
    {
     "name": "stdout",
     "output_type": "stream",
     "text": [
      "50.0\n"
     ]
    }
   ],
   "source": [
    "#Ans\n",
    "pay = (4.00,11)\n",
    "totalpay = (4.00*8)+(6.00*3)\n",
    "print(totalpay)"
   ]
  },
  {
   "cell_type": "markdown",
   "id": "93e6fa95",
   "metadata": {},
   "source": [
    "Qn.6\n",
    "Consider the following method for converting milliseconds into days:\n",
    "// converts milliseconds to days\n",
    "def toDays(millis):\n",
    " return millis / 1000.0 / 60.0 / 60.0 / 24.0\n",
    "Write a similar method named area that takes as a parameter the radius of \n",
    "a circle and that returns the area of the circle. For example, the call \n",
    "area(2.0);\n",
    "should return \n",
    "12.566370614359172. \n",
    "Recall that area can be computed as π times the radius squared and that \n",
    "Python has a constant called math.pi\n"
   ]
  },
  {
   "cell_type": "code",
   "execution_count": 15,
   "id": "c0adf9de",
   "metadata": {},
   "outputs": [
    {
     "name": "stdout",
     "output_type": "stream",
     "text": [
      "12.566370614359172\n"
     ]
    }
   ],
   "source": [
    "#Ans\n",
    "\n",
    "import math\n",
    "\n",
    "def area(radius):\n",
    "    return math.pi * radius**2.0\n",
    "\n",
    "# Example usage:\n",
    "radius = 2.0\n",
    "result = area(radius)\n",
    "print(result)\n"
   ]
  },
  {
   "cell_type": "markdown",
   "id": "3ef430ca",
   "metadata": {},
   "source": [
    "Qn.7\n",
    " Copy and paste the following code into pythons IDLE script \n",
    "environment.\n",
    " low = 1\n",
    " high = 1001\n",
    " sum = 0\n",
    " for i in range(low,high):\n",
    " sum += i\n",
    " \n",
    " print(\"sum = \" , sum)\n",
    " \n",
    "Modify the code to use a input to prompt the user for the values of low\n",
    "and high. Below is a sample execution in which the user asks for the same \n",
    "values as in the original program (1 through 1000):\n",
    "low? 1\n",
    "high? 1001\n",
    "sum = 500500\n",
    "Below is an execution with different values for low and high:\n",
    "low? 300\n",
    "high? 5298\n",
    "sum = 13986903\n",
    "You should exactly reproduce this format"
   ]
  },
  {
   "cell_type": "code",
   "execution_count": 16,
   "id": "059bdf6b",
   "metadata": {},
   "outputs": [
    {
     "name": "stdout",
     "output_type": "stream",
     "text": [
      "low? 300\n",
      "high? 5298\n",
      "sum = 13986903\n"
     ]
    }
   ],
   "source": [
    "#Ans\n",
    "low = int(input(\"low? \"))\n",
    "high = int(input(\"high? \"))\n",
    "sum = 0\n",
    "\n",
    "for i in range(low, high):\n",
    "    sum += i\n",
    "\n",
    "print(\"sum =\", sum)\n",
    "\n",
    " "
   ]
  },
  {
   "cell_type": "markdown",
   "id": "c1e8e491",
   "metadata": {},
   "source": [
    "Qn.8 \n",
    "\n",
    "Write a program using while loop that prompts the user for numbers until \n",
    "the user types 0, then outputs their sum"
   ]
  },
  {
   "cell_type": "code",
   "execution_count": 19,
   "id": "499d751b",
   "metadata": {},
   "outputs": [
    {
     "name": "stdout",
     "output_type": "stream",
     "text": [
      "Enter a number (type 0 to stop): 4\n",
      "Enter a number (type 0 to stop): 5\n",
      "Enter a number (type 0 to stop): 9\n",
      "Enter a number (type 0 to stop): 8\n",
      "Enter a number (type 0 to stop): 6\n",
      "Enter a number (type 0 to stop): 0\n",
      "Sum of the numbers entered: 32\n"
     ]
    }
   ],
   "source": [
    "#Ans\n",
    "\n",
    "sum = 0\n",
    "while True:\n",
    "    number = int(input(\"Enter a number (type 0 to stop): \"))\n",
    "    if number == 0:\n",
    "        break\n",
    "    sum += number\n",
    "print(\"Sum of the numbers entered:\", sum)\n"
   ]
  },
  {
   "cell_type": "markdown",
   "id": "1542e673",
   "metadata": {},
   "source": [
    "Qn.9 \n",
    "\n",
    "Write a program using while loop that prompts the user for numbers until \n",
    "the user types -1, then outputs their sum."
   ]
  },
  {
   "cell_type": "code",
   "execution_count": 23,
   "id": "1b8c28dc",
   "metadata": {},
   "outputs": [
    {
     "name": "stdout",
     "output_type": "stream",
     "text": [
      "Enter a number (type -1 to stop): 5\n",
      "Enter a number (type -1 to stop): 0\n",
      "Enter a number (type -1 to stop): 6\n",
      "Enter a number (type -1 to stop): 7\n",
      "Enter a number (type -1 to stop): 2\n",
      "Enter a number (type -1 to stop): -1\n",
      "Sum of the numbers entered: 20\n"
     ]
    }
   ],
   "source": [
    "#Ans\n",
    "sum = 0\n",
    "while True:\n",
    "    number = int(input(\"Enter a number (type -1 to stop): \"))\n",
    "    if number == -1:\n",
    "        break\n",
    "    sum += number\n",
    "print(\"Sum of the numbers entered:\", sum)\n",
    "    "
   ]
  },
  {
   "cell_type": "markdown",
   "id": "bcbd05fa",
   "metadata": {},
   "source": [
    "Qn.10\n",
    "\n",
    "Write a method named repl that accepts a String and a number of \n",
    "repetitions as parameters and returns the String concatenated that many \n",
    "times. For example, the call repl(\"hello\", 3) returns \"hellohellohello\". \n",
    "If the number of repetitions is 0 or less, an empty string is returned."
   ]
  },
  {
   "cell_type": "code",
   "execution_count": 24,
   "id": "26c38cdb",
   "metadata": {},
   "outputs": [
    {
     "name": "stdout",
     "output_type": "stream",
     "text": [
      "hellohellohellohello"
     ]
    }
   ],
   "source": [
    "#ans\n",
    "rep1 = (\"hello\",4)\n",
    "for rep1 in range(4):\n",
    "    print(\"hello\",end=\"\")"
   ]
  },
  {
   "cell_type": "markdown",
   "id": "70c3a476",
   "metadata": {},
   "source": [
    "Qn.11\n",
    "\n",
    "Write a method called printRange that accepts two integers as arguments and \n",
    "prints the sequence of numbers between the two arguments, separated by \n",
    "spaces. Print an increasing sequence if the first argument is smaller than \n",
    "the second; otherwise, print a decreasing sequence. If the two numbers \n",
    "are the same, that number should be printed by itself. Here are some \n",
    "sample calls to printRange: \n",
    "printRange(2, 7)\n",
    "printRange(19, 11)\n",
    "printRange(5, 5)\n",
    "The output produced should be the following: \n",
    "2 3 4 5 6 7 \n",
    "19 18 17 16 15 14 13 12 11\n",
    "5"
   ]
  },
  {
   "cell_type": "code",
   "execution_count": 30,
   "id": "abbbc0a5",
   "metadata": {},
   "outputs": [
    {
     "name": "stdout",
     "output_type": "stream",
     "text": [
      "2 3 4 5 6 7 "
     ]
    }
   ],
   "source": [
    "#Ans.\n",
    "for i in range(2, 8):\n",
    "    print(i, end=\" \")\n",
    "    \n"
   ]
  },
  {
   "cell_type": "code",
   "execution_count": 31,
   "id": "7840e1e5",
   "metadata": {},
   "outputs": [
    {
     "name": "stdout",
     "output_type": "stream",
     "text": [
      "19 18 17 16 15 14 13 12 11 "
     ]
    }
   ],
   "source": [
    "for j in range(19,10,-1):\n",
    "    print(j,end=\" \")"
   ]
  },
  {
   "cell_type": "code",
   "execution_count": 32,
   "id": "3e57f13f",
   "metadata": {},
   "outputs": [],
   "source": [
    "for x in range(5,5,1):\n",
    "    print(x,end=\" \")"
   ]
  },
  {
   "cell_type": "markdown",
   "id": "8a658200",
   "metadata": {},
   "source": [
    "Qn.12\n",
    "\n",
    ".Write a method named smallestLargest that asks the user to enter numbers, \n",
    "then prints the smallest and largest of all the numbers typed in by the \n",
    "user. You may assume the user enters a valid number greater than 0 for \n",
    "the number of numbers to read. Here is an example dialogue: \n",
    "How many numbers do you want to enter? 4\n",
    "Number 1: 5\n",
    "Number 2: 11\n",
    "Number 3: -2\n",
    "Number 4: 3\n",
    "Smallest = -2\n",
    "Largest = 11"
   ]
  },
  {
   "cell_type": "code",
   "execution_count": 43,
   "id": "15deee60",
   "metadata": {},
   "outputs": [
    {
     "name": "stdout",
     "output_type": "stream",
     "text": [
      "How many numbers do you want to enter?4\n",
      "Enter Number 1:5\n",
      "Enter Number 2:30\n",
      "Enter Number 3:8\n",
      "Enter Number 4:1\n",
      "largest among  5 30 8 and 1 is 30 : \n",
      "Smallest among 5 30 8 and 1 is 1 : \n"
     ]
    }
   ],
   "source": [
    "#Ans\n",
    "smallestlargest = int(input(\"How many numbers do you want to enter?\"))\n",
    "n1 = int(input(\"Enter Number 1:\"))\n",
    "n2 = int(input(\"Enter Number 2:\"))\n",
    "n3 = int(input(\"Enter Number 3:\"))\n",
    "n4 = int(input(\"Enter Number 4:\"))\n",
    "\n",
    "if n1 > n2 and n1 > n3 and n1 > n4:\n",
    "    largest = n1\n",
    "elif n2 > n1 and n2 > n3 and n2 > n4:\n",
    "    largest = n2\n",
    "elif  n3 > n1 and n3 > n2 and n3 > n4:\n",
    "    largest = n3\n",
    "else:\n",
    "    largest = n4\n",
    "print(\"largest among  {} {} {} and {} is {} : \".format(n1,n2,n3,n4,largest))\n",
    "\n",
    "if n1 < n2 and n1 < n3 and n1 < n4:\n",
    "    Smallest = n1\n",
    "elif n2 < n1 and n2 < n3 and n2 < n4:\n",
    "    Smallest = n2\n",
    "elif  n3 < n1 and n3 < n2 and n3 < n4:\n",
    "    Smallest = n3\n",
    "else:\n",
    "    Smallest = n4\n",
    "print(\"Smallest among {} {} {} and {} is {} : \".format(n1,n2,n3,n4,Smallest))\n",
    "\n"
   ]
  },
  {
   "cell_type": "markdown",
   "id": "23d9a5e3",
   "metadata": {},
   "source": [
    "Qn.13\n",
    "Write a method called printAverage that uses a sentinel loop to \n",
    "repeatedly prompt the user for numbers. Once the user types any number \n",
    "less than zero, the method should display the average of all nonnegative \n",
    "numbers typed. Display the average as a double. Here is a sample \n",
    "dialogue with the user:\n",
    "Type a number: 7\n",
    "Type a number: 4\n",
    "Type a number: 16\n",
    "Type a number: –4\n",
    "Average was 9.0\n",
    "If the first number that the user types is negative, do not print an average:\n",
    "Type a number: –2"
   ]
  },
  {
   "cell_type": "code",
   "execution_count": 26,
   "id": "8bb0651a",
   "metadata": {},
   "outputs": [
    {
     "name": "stdout",
     "output_type": "stream",
     "text": [
      "Type a number: 7\n",
      "Type a number: 4\n",
      "Type a number: 16\n",
      "Type a number: -4\n",
      "Average was 9.0\n"
     ]
    }
   ],
   "source": [
    "#Ans\n",
    "def printAverage():\n",
    "    total = 0\n",
    "    count = 0\n",
    "\n",
    "    while True:\n",
    "        number = float(input(\"Type a number: \"))\n",
    "        \n",
    "        if number < 0:\n",
    "            break\n",
    "        \n",
    "        total += number\n",
    "        count += 1\n",
    "\n",
    "    if count > 0:\n",
    "        average = total / count\n",
    "        print(\"Average was\", average)\n",
    "\n",
    "\n",
    "printAverage()\n"
   ]
  },
  {
   "cell_type": "markdown",
   "id": "d7b3c16d",
   "metadata": {},
   "source": [
    "Qn.14\n",
    "\n",
    "Write a method named numUnique that takes three integers as parameters \n",
    "and returns the number of unique integers among the three. For example, \n",
    "the call numUnique(18, 3, 4) should return 3 because the parameters \n",
    "have three different values. By contrast, the call numUnique(6, 7, 6)\n",
    "should return 2 because there are only two unique numbers among the \n",
    "three parameters: 6 and 7."
   ]
  },
  {
   "cell_type": "code",
   "execution_count": 28,
   "id": "3a94bfdb",
   "metadata": {},
   "outputs": [
    {
     "name": "stdout",
     "output_type": "stream",
     "text": [
      "3\n",
      "2\n"
     ]
    }
   ],
   "source": [
    "#Ans\n",
    "def numUnique(a, b, c):\n",
    "    unique_numbers = set([a, b, c])\n",
    "    return len(unique_numbers)\n",
    "\n",
    "result1 = numUnique(18, 3, 4)\n",
    "result2 = numUnique(6, 7, 6)\n",
    "\n",
    "print(result1)  \n",
    "print(result2)  "
   ]
  },
  {
   "cell_type": "markdown",
   "id": "a6a13b01",
   "metadata": {},
   "source": [
    "Qn.15\n",
    "\n",
    "A Random object generates pseudo-random numbers. Find out how to \n",
    "use the Random class and write a program that simulates rolling of two 6-\n",
    "sided dice until their combined result comes up as 7. One possible output \n",
    "can be seen as below:\n",
    " 2 + 4 = 6\n",
    "3 + 5 = 8\n",
    "5 + 6 = 11\n",
    "1 + 1 = 2\n",
    "4 + 3 = 7\n",
    "You won after 5 tries"
   ]
  },
  {
   "cell_type": "code",
   "execution_count": null,
   "id": "8464577a",
   "metadata": {},
   "outputs": [],
   "source": [
    "#Ans\n",
    "import random\n",
    "\n",
    "def roll_dice():\n",
    "    return random.randint(1, 6)\n",
    "\n",
    "def simulate_dice_roll_until_seven():\n",
    "    tries = 0\n",
    "\n",
    "    while True:\n",
    "        dice1 = roll_dice()\n",
    "        dice2 = roll_dice()\n",
    "\n",
    "        total = dice1 + dice2\n",
    "        tries += 1\n",
    "\n",
    "        print(f\"{dice1} + {dice2} = {total}\")\n",
    "\n",
    "        if total == 7:\n",
    "            print(f\"You won after {tries} tries!\")\n",
    "            break\n",
    "\n",
    "\n",
    "simulate_dice_roll_until_seven()\n"
   ]
  },
  {
   "cell_type": "code",
   "execution_count": null,
   "id": "106d7495",
   "metadata": {},
   "outputs": [],
   "source": []
  },
  {
   "cell_type": "code",
   "execution_count": null,
   "id": "fa43e45b",
   "metadata": {},
   "outputs": [],
   "source": []
  }
 ],
 "metadata": {
  "kernelspec": {
   "display_name": "Python 3 (ipykernel)",
   "language": "python",
   "name": "python3"
  },
  "language_info": {
   "codemirror_mode": {
    "name": "ipython",
    "version": 3
   },
   "file_extension": ".py",
   "mimetype": "text/x-python",
   "name": "python",
   "nbconvert_exporter": "python",
   "pygments_lexer": "ipython3",
   "version": "3.9.13"
  }
 },
 "nbformat": 4,
 "nbformat_minor": 5
}
