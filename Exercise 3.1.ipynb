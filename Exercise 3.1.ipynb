{
 "cells": [
  {
   "cell_type": "markdown",
   "id": "3450e0ce",
   "metadata": {},
   "source": [
    "Qn.1\n",
    "Write a program that finds the maximum value of the given list, assuming that the list\n",
    "contains at least one element.\n",
    "Try your program with the following array\n",
    "2 4 7 4 23 5 1 4 8 9"
   ]
  },
  {
   "cell_type": "code",
   "execution_count": 2,
   "id": "1aaf4db8",
   "metadata": {},
   "outputs": [
    {
     "name": "stdout",
     "output_type": "stream",
     "text": [
      "23\n"
     ]
    }
   ],
   "source": [
    "#Ans\n",
    "mylist = [2, 4, 7 ,4, 23, 5, 1 ,4 ,8 ,9]\n",
    "print(max(mylist))"
   ]
  },
  {
   "cell_type": "markdown",
   "id": "37a3a8f9",
   "metadata": {},
   "source": [
    "Qn.2\n",
    "Write a program that calculates the average value of the given list.\n",
    "Try your program with the following list\n",
    "4 7 1 5 11 53 12 46 84 23\n"
   ]
  },
  {
   "cell_type": "code",
   "execution_count": 4,
   "id": "1348c9b1",
   "metadata": {},
   "outputs": [
    {
     "name": "stdout",
     "output_type": "stream",
     "text": [
      "246\n"
     ]
    }
   ],
   "source": [
    "#Ans\n",
    "mylist = [4 ,7, 1, 5, 11, 53 ,12, 46 ,84, 23]\n",
    "print(sum(mylist))"
   ]
  },
  {
   "cell_type": "markdown",
   "id": "5529d1c3",
   "metadata": {},
   "source": [
    "Qn.3\n",
    "Write a program that prints the given list of integers in reverse order.\n",
    "Try your program with the following list\n",
    "2 6 7 45 23 53 14 45 89 5"
   ]
  },
  {
   "cell_type": "code",
   "execution_count": 6,
   "id": "c1aa4fcf",
   "metadata": {},
   "outputs": [
    {
     "name": "stdout",
     "output_type": "stream",
     "text": [
      "[5, 89, 45, 14, 53, 23, 45, 7, 6, 2]\n"
     ]
    }
   ],
   "source": [
    "#Ans\n",
    "mylist = [2 ,6, 7 ,45, 23, 53, 14 ,45 ,89 ,5]\n",
    "mylist.reverse()\n",
    "print(mylist)"
   ]
  },
  {
   "cell_type": "markdown",
   "id": "08f5cc3d",
   "metadata": {},
   "source": [
    "Qn.4\n",
    "Write a program that accepts two lists of integers and prints true if each element in the first \n",
    "list is less than the element at the same index in the second list. Your program should print \n",
    "false if the lists are not the same length.\n",
    "."
   ]
  },
  {
   "cell_type": "code",
   "execution_count": 7,
   "id": "ff67f692",
   "metadata": {},
   "outputs": [
    {
     "name": "stdout",
     "output_type": "stream",
     "text": [
      "True\n"
     ]
    }
   ],
   "source": [
    "#Ans\n",
    "def compare_lists(list1, list2):\n",
    "    if len(list1) != len(list2):\n",
    "        return False\n",
    "\n",
    "    return all(x < y for x, y in zip(list1, list2))\n",
    "\n",
    "\n",
    "list_a = [2, 4, 6, 8]\n",
    "list_b = [3, 5, 7, 9]\n",
    "\n",
    "result = compare_lists(list_a, list_b)\n",
    "print(result)  "
   ]
  },
  {
   "cell_type": "markdown",
   "id": "882f57d9",
   "metadata": {},
   "source": [
    "Qn.5\n",
    "Write a program that accepts a list of integers and two indexes and swaps the elements at \n",
    "those indexes"
   ]
  },
  {
   "cell_type": "code",
   "execution_count": 8,
   "id": "a35ed5ca",
   "metadata": {},
   "outputs": [
    {
     "name": "stdout",
     "output_type": "stream",
     "text": [
      "Original list: [1, 2, 3, 4, 5]\n",
      "List after swapping: [1, 4, 3, 2, 5]\n"
     ]
    }
   ],
   "source": [
    "#Ans\n",
    "def swap_elements(lst, index1, index2):\n",
    "    if 0 <= index1 < len(lst) and 0 <= index2 < len(lst):\n",
    "        lst[index1], lst[index2] = lst[index2], lst[index1]\n",
    "\n",
    "\n",
    "my_list = [1, 2, 3, 4, 5]\n",
    "\n",
    "print(\"Original list:\", my_list)\n",
    "\n",
    "swap_elements(my_list, 1, 3)\n",
    "\n",
    "print(\"List after swapping:\", my_list)\n"
   ]
  },
  {
   "cell_type": "markdown",
   "id": "40cfff7d",
   "metadata": {},
   "source": [
    "Qn.6\n",
    "Write a program that accepts two lists of integers and prints a new list containing all \n",
    "elements of the first list followed by all elements of the second.\n"
   ]
  },
  {
   "cell_type": "code",
   "execution_count": 10,
   "id": "6bfc7af6",
   "metadata": {},
   "outputs": [
    {
     "name": "stdout",
     "output_type": "stream",
     "text": [
      "[1, 2, 3, 4, 5, 6, 7, 8, 9, 0]\n"
     ]
    }
   ],
   "source": [
    "#Ans\n",
    "list1 = [1,2,3,4,5]\n",
    "list2 = [6,7,8,9,0]\n",
    "print(list1 + list2)"
   ]
  },
  {
   "cell_type": "markdown",
   "id": "d1cccc28",
   "metadata": {},
   "source": [
    "Qn.7\n",
    " Write a program that accepts a list of integers and an integer value as its parameters and \n",
    "prints the last index at which the value occurs in the list. The program should print –1 if the \n",
    "value is not found. For example, in the list [74, 85, 102, 99, 101, 85, 56], the last index of the \n",
    "value 85 is 5."
   ]
  },
  {
   "cell_type": "code",
   "execution_count": null,
   "id": "78e7d2e4",
   "metadata": {},
   "outputs": [],
   "source": [
    "#Ans\n",
    " mylist = [74, 85, 102, 99, 101, 85, 56, 74,43,74]"
   ]
  },
  {
   "cell_type": "markdown",
   "id": "edc6a77d",
   "metadata": {},
   "source": [
    "Qn.8\n",
    "Write a program that prints the range of values in a list of integers. The range is defined as 1 \n",
    "more than the difference between the maximum and minimum values in the list. For \n",
    "example, if a list contains the values [36, 12, 25, 19, 46, 31, 22], the program should return \n",
    "35. You may assume that the list has at least one element"
   ]
  },
  {
   "cell_type": "code",
   "execution_count": 11,
   "id": "277048c9",
   "metadata": {},
   "outputs": [
    {
     "name": "stdout",
     "output_type": "stream",
     "text": [
      "The range of values in the list is: 35\n"
     ]
    }
   ],
   "source": [
    "#Ans\n",
    "def calculate_range(lst):\n",
    "    min_value = min(lst)\n",
    "    max_value = max(lst)\n",
    "    my_range = max_value - min_value + 1\n",
    "\n",
    "    print(\"The range of values in the list is:\", my_range)\n",
    "\n",
    "my_list = [36, 12, 25, 19, 46, 31, 22]\n",
    "\n",
    "calculate_range(my_list)\n"
   ]
  },
  {
   "cell_type": "markdown",
   "id": "fea2f98b",
   "metadata": {},
   "source": [
    "Qn.9\n",
    "Write a program that accepts a list of integers, a minimum value, and a maximum value and \n",
    "prints the count of how many elements from the list fall between the minimum and \n",
    "maximum (inclusive). For example, in the list [14, 1, 22, 17, 36, 7, -43, 5], for minimum value \n",
    "4 and maximum value 17, there are four elements whose values fall between 4 and 17"
   ]
  },
  {
   "cell_type": "code",
   "execution_count": 12,
   "id": "122c90c1",
   "metadata": {},
   "outputs": [
    {
     "name": "stdout",
     "output_type": "stream",
     "text": [
      "There are 4 elements between 4 and 17 (inclusive).\n"
     ]
    }
   ],
   "source": [
    "#Ans\n",
    "def count_elements_between(lst, min_value, max_value):\n",
    "    count = sum(min_value <= num <= max_value for num in lst)\n",
    "    print(f\"There are {count} elements between {min_value} and {max_value} (inclusive).\")\n",
    "\n",
    "\n",
    "my_list = [14, 1, 22, 17, 36, 7, -43, 5]\n",
    "min_value = 4\n",
    "max_value = 17\n",
    "\n",
    "count_elements_between(my_list, min_value, max_value)\n"
   ]
  },
  {
   "cell_type": "markdown",
   "id": "659709d7",
   "metadata": {},
   "source": [
    "Qn.10\n",
    "Write a program that accepts a list of real numbers and prints true if the list is in sorted \n",
    "(nondecreasing) order and false otherwise. For example, if lists named list1 and list2 store \n",
    "[16.1, 12.3, 22.2, 14.4] and [1.5, 4.3, 7.0, 19.5, 25.1, 46.2] respectively, the program should \n",
    "print false for list1 and true for list2 respectively. Assume the list has at least one element. A \n",
    "one-element list is sorted"
   ]
  },
  {
   "cell_type": "code",
   "execution_count": 13,
   "id": "da0bf73c",
   "metadata": {},
   "outputs": [
    {
     "name": "stdout",
     "output_type": "stream",
     "text": [
      "False\n",
      "True\n"
     ]
    }
   ],
   "source": [
    "#Ans\n",
    "def is_sorted(lst):\n",
    "    return all(lst[i] <= lst[i + 1] for i in range(len(lst) - 1))\n",
    "\n",
    "\n",
    "list1 = [16.1, 12.3, 22.2, 14.4]\n",
    "list2 = [1.5, 4.3, 7.0, 19.5, 25.1, 46.2]\n",
    "\n",
    "result1 = is_sorted(list1)\n",
    "result2 = is_sorted(list2)\n",
    "\n",
    "print(result1)  \n",
    "print(result2) \n"
   ]
  },
  {
   "cell_type": "code",
   "execution_count": null,
   "id": "43988308",
   "metadata": {},
   "outputs": [],
   "source": []
  },
  {
   "cell_type": "code",
   "execution_count": null,
   "id": "93a3eccd",
   "metadata": {},
   "outputs": [],
   "source": []
  },
  {
   "cell_type": "code",
   "execution_count": null,
   "id": "03d62616",
   "metadata": {},
   "outputs": [],
   "source": []
  },
  {
   "cell_type": "code",
   "execution_count": null,
   "id": "49e704a6",
   "metadata": {},
   "outputs": [],
   "source": []
  }
 ],
 "metadata": {
  "kernelspec": {
   "display_name": "Python 3 (ipykernel)",
   "language": "python",
   "name": "python3"
  },
  "language_info": {
   "codemirror_mode": {
    "name": "ipython",
    "version": 3
   },
   "file_extension": ".py",
   "mimetype": "text/x-python",
   "name": "python",
   "nbconvert_exporter": "python",
   "pygments_lexer": "ipython3",
   "version": "3.9.13"
  }
 },
 "nbformat": 4,
 "nbformat_minor": 5
}
